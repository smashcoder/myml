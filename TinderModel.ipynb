{
  "nbformat": 4,
  "nbformat_minor": 0,
  "metadata": {
    "colab": {
      "provenance": []
    },
    "kernelspec": {
      "name": "python3",
      "display_name": "Python 3"
    },
    "language_info": {
      "name": "python"
    }
  },
  "cells": [
    {
      "cell_type": "code",
      "execution_count": null,
      "metadata": {
        "id": "WFkxJ6Tj4Kwe"
      },
      "outputs": [],
      "source": [
        "# Import necessary library\n",
        "import pandas as pd # data manipulation\n",
        "import numpy as np # linear algebra\n",
        "import matplotlib.pyplot as plt # data visualization\n",
        "import seaborn as sns # data avisualization\n",
        "from scipy.stats import ttest_ind # ttest to compare sample means\n",
        "\n",
        "%matplotlib inline"
      ]
    },
    {
      "cell_type": "code",
      "source": [
        "# read .csv file\n",
        "path = '/content/Tinder Millennial Match Rate Dataset.csv'\n",
        "df = pd.read_csv('/content/Tinder Millennial Match Rate Dataset.csv')"
      ],
      "metadata": {
        "id": "qtUFctLT43m6"
      },
      "execution_count": null,
      "outputs": []
    },
    {
      "cell_type": "code",
      "source": [
        "# print first 5 rows\n",
        "df.head()"
      ],
      "metadata": {
        "colab": {
          "base_uri": "https://localhost:8080/",
          "height": 206
        },
        "id": "m2EcrIOF5D8T",
        "outputId": "b45389af-7929-4044-ae24-1a6e30345923"
      },
      "execution_count": null,
      "outputs": [
        {
          "output_type": "execute_result",
          "data": {
            "text/plain": [
              "       ID Segment Type    Segment Description              Answer  Count  \\\n",
              "0  292881       Mobile     Mobile respondents                 Yes    797   \n",
              "1  292883       Mobile     Mobile respondents                  No   1969   \n",
              "2  292885       Mobile     Mobile respondents  I don't use Tinder   1090   \n",
              "3  292887          Web  Web-based respondents                 Yes      0   \n",
              "4  292889          Web  Web-based respondents                  No      0   \n",
              "\n",
              "   Percentage It became a Relationship  \n",
              "0       0.207                      Yes  \n",
              "1       0.511                       No  \n",
              "2       0.283                      Yes  \n",
              "3       0.000                       No  \n",
              "4       0.000                       No  "
            ],
            "text/html": [
              "\n",
              "  <div id=\"df-de843b82-9b6d-4ca6-be3c-d78dd5012988\">\n",
              "    <div class=\"colab-df-container\">\n",
              "      <div>\n",
              "<style scoped>\n",
              "    .dataframe tbody tr th:only-of-type {\n",
              "        vertical-align: middle;\n",
              "    }\n",
              "\n",
              "    .dataframe tbody tr th {\n",
              "        vertical-align: top;\n",
              "    }\n",
              "\n",
              "    .dataframe thead th {\n",
              "        text-align: right;\n",
              "    }\n",
              "</style>\n",
              "<table border=\"1\" class=\"dataframe\">\n",
              "  <thead>\n",
              "    <tr style=\"text-align: right;\">\n",
              "      <th></th>\n",
              "      <th>ID</th>\n",
              "      <th>Segment Type</th>\n",
              "      <th>Segment Description</th>\n",
              "      <th>Answer</th>\n",
              "      <th>Count</th>\n",
              "      <th>Percentage</th>\n",
              "      <th>It became a Relationship</th>\n",
              "    </tr>\n",
              "  </thead>\n",
              "  <tbody>\n",
              "    <tr>\n",
              "      <th>0</th>\n",
              "      <td>292881</td>\n",
              "      <td>Mobile</td>\n",
              "      <td>Mobile respondents</td>\n",
              "      <td>Yes</td>\n",
              "      <td>797</td>\n",
              "      <td>0.207</td>\n",
              "      <td>Yes</td>\n",
              "    </tr>\n",
              "    <tr>\n",
              "      <th>1</th>\n",
              "      <td>292883</td>\n",
              "      <td>Mobile</td>\n",
              "      <td>Mobile respondents</td>\n",
              "      <td>No</td>\n",
              "      <td>1969</td>\n",
              "      <td>0.511</td>\n",
              "      <td>No</td>\n",
              "    </tr>\n",
              "    <tr>\n",
              "      <th>2</th>\n",
              "      <td>292885</td>\n",
              "      <td>Mobile</td>\n",
              "      <td>Mobile respondents</td>\n",
              "      <td>I don't use Tinder</td>\n",
              "      <td>1090</td>\n",
              "      <td>0.283</td>\n",
              "      <td>Yes</td>\n",
              "    </tr>\n",
              "    <tr>\n",
              "      <th>3</th>\n",
              "      <td>292887</td>\n",
              "      <td>Web</td>\n",
              "      <td>Web-based respondents</td>\n",
              "      <td>Yes</td>\n",
              "      <td>0</td>\n",
              "      <td>0.000</td>\n",
              "      <td>No</td>\n",
              "    </tr>\n",
              "    <tr>\n",
              "      <th>4</th>\n",
              "      <td>292889</td>\n",
              "      <td>Web</td>\n",
              "      <td>Web-based respondents</td>\n",
              "      <td>No</td>\n",
              "      <td>0</td>\n",
              "      <td>0.000</td>\n",
              "      <td>No</td>\n",
              "    </tr>\n",
              "  </tbody>\n",
              "</table>\n",
              "</div>\n",
              "      <button class=\"colab-df-convert\" onclick=\"convertToInteractive('df-de843b82-9b6d-4ca6-be3c-d78dd5012988')\"\n",
              "              title=\"Convert this dataframe to an interactive table.\"\n",
              "              style=\"display:none;\">\n",
              "        \n",
              "  <svg xmlns=\"http://www.w3.org/2000/svg\" height=\"24px\"viewBox=\"0 0 24 24\"\n",
              "       width=\"24px\">\n",
              "    <path d=\"M0 0h24v24H0V0z\" fill=\"none\"/>\n",
              "    <path d=\"M18.56 5.44l.94 2.06.94-2.06 2.06-.94-2.06-.94-.94-2.06-.94 2.06-2.06.94zm-11 1L8.5 8.5l.94-2.06 2.06-.94-2.06-.94L8.5 2.5l-.94 2.06-2.06.94zm10 10l.94 2.06.94-2.06 2.06-.94-2.06-.94-.94-2.06-.94 2.06-2.06.94z\"/><path d=\"M17.41 7.96l-1.37-1.37c-.4-.4-.92-.59-1.43-.59-.52 0-1.04.2-1.43.59L10.3 9.45l-7.72 7.72c-.78.78-.78 2.05 0 2.83L4 21.41c.39.39.9.59 1.41.59.51 0 1.02-.2 1.41-.59l7.78-7.78 2.81-2.81c.8-.78.8-2.07 0-2.86zM5.41 20L4 18.59l7.72-7.72 1.47 1.35L5.41 20z\"/>\n",
              "  </svg>\n",
              "      </button>\n",
              "      \n",
              "  <style>\n",
              "    .colab-df-container {\n",
              "      display:flex;\n",
              "      flex-wrap:wrap;\n",
              "      gap: 12px;\n",
              "    }\n",
              "\n",
              "    .colab-df-convert {\n",
              "      background-color: #E8F0FE;\n",
              "      border: none;\n",
              "      border-radius: 50%;\n",
              "      cursor: pointer;\n",
              "      display: none;\n",
              "      fill: #1967D2;\n",
              "      height: 32px;\n",
              "      padding: 0 0 0 0;\n",
              "      width: 32px;\n",
              "    }\n",
              "\n",
              "    .colab-df-convert:hover {\n",
              "      background-color: #E2EBFA;\n",
              "      box-shadow: 0px 1px 2px rgba(60, 64, 67, 0.3), 0px 1px 3px 1px rgba(60, 64, 67, 0.15);\n",
              "      fill: #174EA6;\n",
              "    }\n",
              "\n",
              "    [theme=dark] .colab-df-convert {\n",
              "      background-color: #3B4455;\n",
              "      fill: #D2E3FC;\n",
              "    }\n",
              "\n",
              "    [theme=dark] .colab-df-convert:hover {\n",
              "      background-color: #434B5C;\n",
              "      box-shadow: 0px 1px 3px 1px rgba(0, 0, 0, 0.15);\n",
              "      filter: drop-shadow(0px 1px 2px rgba(0, 0, 0, 0.3));\n",
              "      fill: #FFFFFF;\n",
              "    }\n",
              "  </style>\n",
              "\n",
              "      <script>\n",
              "        const buttonEl =\n",
              "          document.querySelector('#df-de843b82-9b6d-4ca6-be3c-d78dd5012988 button.colab-df-convert');\n",
              "        buttonEl.style.display =\n",
              "          google.colab.kernel.accessAllowed ? 'block' : 'none';\n",
              "\n",
              "        async function convertToInteractive(key) {\n",
              "          const element = document.querySelector('#df-de843b82-9b6d-4ca6-be3c-d78dd5012988');\n",
              "          const dataTable =\n",
              "            await google.colab.kernel.invokeFunction('convertToInteractive',\n",
              "                                                     [key], {});\n",
              "          if (!dataTable) return;\n",
              "\n",
              "          const docLinkHtml = 'Like what you see? Visit the ' +\n",
              "            '<a target=\"_blank\" href=https://colab.research.google.com/notebooks/data_table.ipynb>data table notebook</a>'\n",
              "            + ' to learn more about interactive tables.';\n",
              "          element.innerHTML = '';\n",
              "          dataTable['output_type'] = 'display_data';\n",
              "          await google.colab.output.renderOutput(dataTable, element);\n",
              "          const docLink = document.createElement('div');\n",
              "          docLink.innerHTML = docLinkHtml;\n",
              "          element.appendChild(docLink);\n",
              "        }\n",
              "      </script>\n",
              "    </div>\n",
              "  </div>\n",
              "  "
            ]
          },
          "metadata": {},
          "execution_count": 5
        }
      ]
    },
    {
      "cell_type": "code",
      "source": [
        "# print data types of columns\n",
        "df.info()"
      ],
      "metadata": {
        "colab": {
          "base_uri": "https://localhost:8080/"
        },
        "id": "MVri29bL5G_i",
        "outputId": "472a21c9-5ad6-40ff-f423-2182436efd53"
      },
      "execution_count": null,
      "outputs": [
        {
          "output_type": "stream",
          "name": "stdout",
          "text": [
            "<class 'pandas.core.frame.DataFrame'>\n",
            "RangeIndex: 453 entries, 0 to 452\n",
            "Data columns (total 7 columns):\n",
            " #   Column                    Non-Null Count  Dtype  \n",
            "---  ------                    --------------  -----  \n",
            " 0   ID                        453 non-null    int64  \n",
            " 1   Segment Type              453 non-null    object \n",
            " 2   Segment Description       453 non-null    object \n",
            " 3   Answer                    453 non-null    object \n",
            " 4   Count                     453 non-null    int64  \n",
            " 5   Percentage                453 non-null    float64\n",
            " 6   It became a Relationship  453 non-null    object \n",
            "dtypes: float64(1), int64(2), object(4)\n",
            "memory usage: 24.9+ KB\n"
          ]
        }
      ]
    },
    {
      "cell_type": "code",
      "source": [
        "# print summary statistics\n",
        "df.describe()"
      ],
      "metadata": {
        "colab": {
          "base_uri": "https://localhost:8080/",
          "height": 300
        },
        "id": "hDrS_qM05Ly6",
        "outputId": "301727c5-4ca0-4dbc-c9a0-52bd13c467a6"
      },
      "execution_count": null,
      "outputs": [
        {
          "output_type": "execute_result",
          "data": {
            "text/plain": [
              "                  ID        Count  Percentage\n",
              "count     453.000000   453.000000  453.000000\n",
              "mean   293333.000000    22.373068    0.331141\n",
              "std       261.828188   136.996075    0.316157\n",
              "min    292881.000000     0.000000    0.000000\n",
              "25%    293107.000000     0.000000    0.000000\n",
              "50%    293333.000000     1.000000    0.250000\n",
              "75%    293559.000000     4.000000    0.500000\n",
              "max    293785.000000  1969.000000    1.000000"
            ],
            "text/html": [
              "\n",
              "  <div id=\"df-55efa0e0-06c5-46f8-a01a-d5cdac347358\">\n",
              "    <div class=\"colab-df-container\">\n",
              "      <div>\n",
              "<style scoped>\n",
              "    .dataframe tbody tr th:only-of-type {\n",
              "        vertical-align: middle;\n",
              "    }\n",
              "\n",
              "    .dataframe tbody tr th {\n",
              "        vertical-align: top;\n",
              "    }\n",
              "\n",
              "    .dataframe thead th {\n",
              "        text-align: right;\n",
              "    }\n",
              "</style>\n",
              "<table border=\"1\" class=\"dataframe\">\n",
              "  <thead>\n",
              "    <tr style=\"text-align: right;\">\n",
              "      <th></th>\n",
              "      <th>ID</th>\n",
              "      <th>Count</th>\n",
              "      <th>Percentage</th>\n",
              "    </tr>\n",
              "  </thead>\n",
              "  <tbody>\n",
              "    <tr>\n",
              "      <th>count</th>\n",
              "      <td>453.000000</td>\n",
              "      <td>453.000000</td>\n",
              "      <td>453.000000</td>\n",
              "    </tr>\n",
              "    <tr>\n",
              "      <th>mean</th>\n",
              "      <td>293333.000000</td>\n",
              "      <td>22.373068</td>\n",
              "      <td>0.331141</td>\n",
              "    </tr>\n",
              "    <tr>\n",
              "      <th>std</th>\n",
              "      <td>261.828188</td>\n",
              "      <td>136.996075</td>\n",
              "      <td>0.316157</td>\n",
              "    </tr>\n",
              "    <tr>\n",
              "      <th>min</th>\n",
              "      <td>292881.000000</td>\n",
              "      <td>0.000000</td>\n",
              "      <td>0.000000</td>\n",
              "    </tr>\n",
              "    <tr>\n",
              "      <th>25%</th>\n",
              "      <td>293107.000000</td>\n",
              "      <td>0.000000</td>\n",
              "      <td>0.000000</td>\n",
              "    </tr>\n",
              "    <tr>\n",
              "      <th>50%</th>\n",
              "      <td>293333.000000</td>\n",
              "      <td>1.000000</td>\n",
              "      <td>0.250000</td>\n",
              "    </tr>\n",
              "    <tr>\n",
              "      <th>75%</th>\n",
              "      <td>293559.000000</td>\n",
              "      <td>4.000000</td>\n",
              "      <td>0.500000</td>\n",
              "    </tr>\n",
              "    <tr>\n",
              "      <th>max</th>\n",
              "      <td>293785.000000</td>\n",
              "      <td>1969.000000</td>\n",
              "      <td>1.000000</td>\n",
              "    </tr>\n",
              "  </tbody>\n",
              "</table>\n",
              "</div>\n",
              "      <button class=\"colab-df-convert\" onclick=\"convertToInteractive('df-55efa0e0-06c5-46f8-a01a-d5cdac347358')\"\n",
              "              title=\"Convert this dataframe to an interactive table.\"\n",
              "              style=\"display:none;\">\n",
              "        \n",
              "  <svg xmlns=\"http://www.w3.org/2000/svg\" height=\"24px\"viewBox=\"0 0 24 24\"\n",
              "       width=\"24px\">\n",
              "    <path d=\"M0 0h24v24H0V0z\" fill=\"none\"/>\n",
              "    <path d=\"M18.56 5.44l.94 2.06.94-2.06 2.06-.94-2.06-.94-.94-2.06-.94 2.06-2.06.94zm-11 1L8.5 8.5l.94-2.06 2.06-.94-2.06-.94L8.5 2.5l-.94 2.06-2.06.94zm10 10l.94 2.06.94-2.06 2.06-.94-2.06-.94-.94-2.06-.94 2.06-2.06.94z\"/><path d=\"M17.41 7.96l-1.37-1.37c-.4-.4-.92-.59-1.43-.59-.52 0-1.04.2-1.43.59L10.3 9.45l-7.72 7.72c-.78.78-.78 2.05 0 2.83L4 21.41c.39.39.9.59 1.41.59.51 0 1.02-.2 1.41-.59l7.78-7.78 2.81-2.81c.8-.78.8-2.07 0-2.86zM5.41 20L4 18.59l7.72-7.72 1.47 1.35L5.41 20z\"/>\n",
              "  </svg>\n",
              "      </button>\n",
              "      \n",
              "  <style>\n",
              "    .colab-df-container {\n",
              "      display:flex;\n",
              "      flex-wrap:wrap;\n",
              "      gap: 12px;\n",
              "    }\n",
              "\n",
              "    .colab-df-convert {\n",
              "      background-color: #E8F0FE;\n",
              "      border: none;\n",
              "      border-radius: 50%;\n",
              "      cursor: pointer;\n",
              "      display: none;\n",
              "      fill: #1967D2;\n",
              "      height: 32px;\n",
              "      padding: 0 0 0 0;\n",
              "      width: 32px;\n",
              "    }\n",
              "\n",
              "    .colab-df-convert:hover {\n",
              "      background-color: #E2EBFA;\n",
              "      box-shadow: 0px 1px 2px rgba(60, 64, 67, 0.3), 0px 1px 3px 1px rgba(60, 64, 67, 0.15);\n",
              "      fill: #174EA6;\n",
              "    }\n",
              "\n",
              "    [theme=dark] .colab-df-convert {\n",
              "      background-color: #3B4455;\n",
              "      fill: #D2E3FC;\n",
              "    }\n",
              "\n",
              "    [theme=dark] .colab-df-convert:hover {\n",
              "      background-color: #434B5C;\n",
              "      box-shadow: 0px 1px 3px 1px rgba(0, 0, 0, 0.15);\n",
              "      filter: drop-shadow(0px 1px 2px rgba(0, 0, 0, 0.3));\n",
              "      fill: #FFFFFF;\n",
              "    }\n",
              "  </style>\n",
              "\n",
              "      <script>\n",
              "        const buttonEl =\n",
              "          document.querySelector('#df-55efa0e0-06c5-46f8-a01a-d5cdac347358 button.colab-df-convert');\n",
              "        buttonEl.style.display =\n",
              "          google.colab.kernel.accessAllowed ? 'block' : 'none';\n",
              "\n",
              "        async function convertToInteractive(key) {\n",
              "          const element = document.querySelector('#df-55efa0e0-06c5-46f8-a01a-d5cdac347358');\n",
              "          const dataTable =\n",
              "            await google.colab.kernel.invokeFunction('convertToInteractive',\n",
              "                                                     [key], {});\n",
              "          if (!dataTable) return;\n",
              "\n",
              "          const docLinkHtml = 'Like what you see? Visit the ' +\n",
              "            '<a target=\"_blank\" href=https://colab.research.google.com/notebooks/data_table.ipynb>data table notebook</a>'\n",
              "            + ' to learn more about interactive tables.';\n",
              "          element.innerHTML = '';\n",
              "          dataTable['output_type'] = 'display_data';\n",
              "          await google.colab.output.renderOutput(dataTable, element);\n",
              "          const docLink = document.createElement('div');\n",
              "          docLink.innerHTML = docLinkHtml;\n",
              "          element.appendChild(docLink);\n",
              "        }\n",
              "      </script>\n",
              "    </div>\n",
              "  </div>\n",
              "  "
            ]
          },
          "metadata": {},
          "execution_count": 7
        }
      ]
    },
    {
      "cell_type": "code",
      "source": [
        "df.corr()"
      ],
      "metadata": {
        "colab": {
          "base_uri": "https://localhost:8080/",
          "height": 175
        },
        "id": "EFnuxZfm6cNr",
        "outputId": "6fd729c2-416f-47ac-9828-91d36b74724f"
      },
      "execution_count": null,
      "outputs": [
        {
          "output_type": "execute_result",
          "data": {
            "text/plain": [
              "                                ID     Count  Percentage  \\\n",
              "ID                        1.000000 -0.239849    0.011680   \n",
              "Count                    -0.239849  1.000000    0.033472   \n",
              "Percentage                0.011680  0.033472    1.000000   \n",
              "It became a Relationship -0.004851  0.033861    0.077366   \n",
              "\n",
              "                          It became a Relationship  \n",
              "ID                                       -0.004851  \n",
              "Count                                     0.033861  \n",
              "Percentage                                0.077366  \n",
              "It became a Relationship                  1.000000  "
            ],
            "text/html": [
              "\n",
              "  <div id=\"df-942d40b9-bf3b-40fa-9f2e-119b6722ba68\">\n",
              "    <div class=\"colab-df-container\">\n",
              "      <div>\n",
              "<style scoped>\n",
              "    .dataframe tbody tr th:only-of-type {\n",
              "        vertical-align: middle;\n",
              "    }\n",
              "\n",
              "    .dataframe tbody tr th {\n",
              "        vertical-align: top;\n",
              "    }\n",
              "\n",
              "    .dataframe thead th {\n",
              "        text-align: right;\n",
              "    }\n",
              "</style>\n",
              "<table border=\"1\" class=\"dataframe\">\n",
              "  <thead>\n",
              "    <tr style=\"text-align: right;\">\n",
              "      <th></th>\n",
              "      <th>ID</th>\n",
              "      <th>Count</th>\n",
              "      <th>Percentage</th>\n",
              "      <th>It became a Relationship</th>\n",
              "    </tr>\n",
              "  </thead>\n",
              "  <tbody>\n",
              "    <tr>\n",
              "      <th>ID</th>\n",
              "      <td>1.000000</td>\n",
              "      <td>-0.239849</td>\n",
              "      <td>0.011680</td>\n",
              "      <td>-0.004851</td>\n",
              "    </tr>\n",
              "    <tr>\n",
              "      <th>Count</th>\n",
              "      <td>-0.239849</td>\n",
              "      <td>1.000000</td>\n",
              "      <td>0.033472</td>\n",
              "      <td>0.033861</td>\n",
              "    </tr>\n",
              "    <tr>\n",
              "      <th>Percentage</th>\n",
              "      <td>0.011680</td>\n",
              "      <td>0.033472</td>\n",
              "      <td>1.000000</td>\n",
              "      <td>0.077366</td>\n",
              "    </tr>\n",
              "    <tr>\n",
              "      <th>It became a Relationship</th>\n",
              "      <td>-0.004851</td>\n",
              "      <td>0.033861</td>\n",
              "      <td>0.077366</td>\n",
              "      <td>1.000000</td>\n",
              "    </tr>\n",
              "  </tbody>\n",
              "</table>\n",
              "</div>\n",
              "      <button class=\"colab-df-convert\" onclick=\"convertToInteractive('df-942d40b9-bf3b-40fa-9f2e-119b6722ba68')\"\n",
              "              title=\"Convert this dataframe to an interactive table.\"\n",
              "              style=\"display:none;\">\n",
              "        \n",
              "  <svg xmlns=\"http://www.w3.org/2000/svg\" height=\"24px\"viewBox=\"0 0 24 24\"\n",
              "       width=\"24px\">\n",
              "    <path d=\"M0 0h24v24H0V0z\" fill=\"none\"/>\n",
              "    <path d=\"M18.56 5.44l.94 2.06.94-2.06 2.06-.94-2.06-.94-.94-2.06-.94 2.06-2.06.94zm-11 1L8.5 8.5l.94-2.06 2.06-.94-2.06-.94L8.5 2.5l-.94 2.06-2.06.94zm10 10l.94 2.06.94-2.06 2.06-.94-2.06-.94-.94-2.06-.94 2.06-2.06.94z\"/><path d=\"M17.41 7.96l-1.37-1.37c-.4-.4-.92-.59-1.43-.59-.52 0-1.04.2-1.43.59L10.3 9.45l-7.72 7.72c-.78.78-.78 2.05 0 2.83L4 21.41c.39.39.9.59 1.41.59.51 0 1.02-.2 1.41-.59l7.78-7.78 2.81-2.81c.8-.78.8-2.07 0-2.86zM5.41 20L4 18.59l7.72-7.72 1.47 1.35L5.41 20z\"/>\n",
              "  </svg>\n",
              "      </button>\n",
              "      \n",
              "  <style>\n",
              "    .colab-df-container {\n",
              "      display:flex;\n",
              "      flex-wrap:wrap;\n",
              "      gap: 12px;\n",
              "    }\n",
              "\n",
              "    .colab-df-convert {\n",
              "      background-color: #E8F0FE;\n",
              "      border: none;\n",
              "      border-radius: 50%;\n",
              "      cursor: pointer;\n",
              "      display: none;\n",
              "      fill: #1967D2;\n",
              "      height: 32px;\n",
              "      padding: 0 0 0 0;\n",
              "      width: 32px;\n",
              "    }\n",
              "\n",
              "    .colab-df-convert:hover {\n",
              "      background-color: #E2EBFA;\n",
              "      box-shadow: 0px 1px 2px rgba(60, 64, 67, 0.3), 0px 1px 3px 1px rgba(60, 64, 67, 0.15);\n",
              "      fill: #174EA6;\n",
              "    }\n",
              "\n",
              "    [theme=dark] .colab-df-convert {\n",
              "      background-color: #3B4455;\n",
              "      fill: #D2E3FC;\n",
              "    }\n",
              "\n",
              "    [theme=dark] .colab-df-convert:hover {\n",
              "      background-color: #434B5C;\n",
              "      box-shadow: 0px 1px 3px 1px rgba(0, 0, 0, 0.15);\n",
              "      filter: drop-shadow(0px 1px 2px rgba(0, 0, 0, 0.3));\n",
              "      fill: #FFFFFF;\n",
              "    }\n",
              "  </style>\n",
              "\n",
              "      <script>\n",
              "        const buttonEl =\n",
              "          document.querySelector('#df-942d40b9-bf3b-40fa-9f2e-119b6722ba68 button.colab-df-convert');\n",
              "        buttonEl.style.display =\n",
              "          google.colab.kernel.accessAllowed ? 'block' : 'none';\n",
              "\n",
              "        async function convertToInteractive(key) {\n",
              "          const element = document.querySelector('#df-942d40b9-bf3b-40fa-9f2e-119b6722ba68');\n",
              "          const dataTable =\n",
              "            await google.colab.kernel.invokeFunction('convertToInteractive',\n",
              "                                                     [key], {});\n",
              "          if (!dataTable) return;\n",
              "\n",
              "          const docLinkHtml = 'Like what you see? Visit the ' +\n",
              "            '<a target=\"_blank\" href=https://colab.research.google.com/notebooks/data_table.ipynb>data table notebook</a>'\n",
              "            + ' to learn more about interactive tables.';\n",
              "          element.innerHTML = '';\n",
              "          dataTable['output_type'] = 'display_data';\n",
              "          await google.colab.output.renderOutput(dataTable, element);\n",
              "          const docLink = document.createElement('div');\n",
              "          docLink.innerHTML = docLinkHtml;\n",
              "          element.appendChild(docLink);\n",
              "        }\n",
              "      </script>\n",
              "    </div>\n",
              "  </div>\n",
              "  "
            ]
          },
          "metadata": {},
          "execution_count": 31
        }
      ]
    },
    {
      "cell_type": "code",
      "source": [
        "df.shape"
      ],
      "metadata": {
        "id": "fqgQI0Cc6hbd",
        "outputId": "9f2cc10b-cdc9-4944-f7d6-b2d497fc8de6",
        "colab": {
          "base_uri": "https://localhost:8080/"
        }
      },
      "execution_count": null,
      "outputs": [
        {
          "output_type": "execute_result",
          "data": {
            "text/plain": [
              "(453, 7)"
            ]
          },
          "metadata": {},
          "execution_count": 33
        }
      ]
    },
    {
      "cell_type": "code",
      "source": [
        "# Investigate unique values in categorical columns\n",
        "cat_col = ['Segment Type', 'Segment Description', 'Answer', 'It became a Relationship']\n",
        "for col in cat_col:\n",
        "    print('Unique values in \"{}\" column count: {}'.format(col, df[col].nunique()))\n",
        "    print(df[col].unique())\n",
        "    print('-'*30)"
      ],
      "metadata": {
        "colab": {
          "base_uri": "https://localhost:8080/"
        },
        "id": "jgQTU1VE5N8Z",
        "outputId": "457ebf8e-71c7-4cfc-af68-bc1599a33050"
      },
      "execution_count": null,
      "outputs": [
        {
          "output_type": "stream",
          "name": "stdout",
          "text": [
            "Unique values in \"Segment Type\" column count: 4\n",
            "['Mobile' 'Web' 'Gender' 'University']\n",
            "------------------------------\n",
            "Unique values in \"Segment Description\" column count: 151\n",
            "['Mobile respondents' 'Web-based respondents' 'Male respondents'\n",
            " 'Female respondents' 'Chapman University' 'Cornell University'\n",
            " 'Duke University' 'George Washington University' 'Georgetown University'\n",
            " 'Harvard University' 'Indiana University' 'Johns Hopkins University'\n",
            " 'Northwestern University' 'Ohio State University' 'Princeton University'\n",
            " 'San Diego State University' 'Santa Clara University'\n",
            " 'Southern Methodist University' 'Stanford University' 'Tulane University'\n",
            " 'University of Pennsylvania' 'University of Wisconsin-Madison'\n",
            " 'University of Alabama' 'University of California, Berkeley'\n",
            " 'University of California, Davis' 'University of California, Los Angeles'\n",
            " 'University of California, Santa Barbara'\n",
            " 'University of Colorado Boulder' 'University of Miami'\n",
            " 'University of Michigan' 'University of Oregon'\n",
            " 'University of Southern California' 'University of Virginia'\n",
            " 'Vanderbilt University' 'Wesleyan University' 'University of Texas'\n",
            " 'University of California, San Diego' 'Miami University (Ohio)'\n",
            " 'University of Maine' 'Texas Tech University'\n",
            " 'University of North Carolina' 'University of Arkansas'\n",
            " 'University of Mississippi' 'Baylor University' 'Texas A&M University'\n",
            " 'University of Oklahoma' 'Yale University' 'Cal Poly San Luis Obispo'\n",
            " 'Carnegie Mellon University' 'Clemson University' 'University of Denver'\n",
            " 'University of Washington' 'University of Illinois' 'New York University'\n",
            " 'Butler University' 'Washington University in St. Louis'\n",
            " 'Northern Illinois University' 'University of Iowa' 'Dartmouth College'\n",
            " 'Loyola Marymount University' 'Williams College' 'University of Maryland'\n",
            " 'UMass Amherst' 'University of Arizona' 'Texas Christian University'\n",
            " 'Emory University' 'Columbia University' 'Purdue University'\n",
            " 'Tufts University' 'University of Richmond' 'Quinnipiac University'\n",
            " 'United States Naval Academy' 'University of California, Santa Cruz'\n",
            " 'Rice University ' 'Mississippi State University'\n",
            " 'University of Missouri' 'University of Georgia'\n",
            " 'Louisiana State University' 'Lehigh University'\n",
            " 'Northern Arizona University' 'Elon University' 'Vassar College'\n",
            " 'University of Pittsburgh' 'University of Chicago'\n",
            " 'University of Buffalo' 'University of Minnesota'\n",
            " 'Colorado State University' 'Skidmore College'\n",
            " 'Rochester Institute of Technology' 'Arizona State University'\n",
            " 'University of Rochester' 'University of St Andrews'\n",
            " 'Florida State University' 'Ithaca College' 'Union College'\n",
            " 'Loyola University Maryland' 'Marquette University'\n",
            " 'James Madison University' 'Sacred Heart University'\n",
            " 'University of Wisconsin-Whitewater' 'St. Lawrence University'\n",
            " 'Iowa State University' 'University of Wisconsin-La Crosse'\n",
            " 'College of William and Mary' 'University of Notre Dame'\n",
            " 'University of Tennessee' 'Illinois State' 'Auburn University'\n",
            " 'Gonzaga University' 'Washington State University'\n",
            " 'Michigan State University' 'Florida International University'\n",
            " 'University of Central Florida' 'Castleton State College'\n",
            " 'Cal State Northridge' 'Ohio University' 'Pepperdine University'\n",
            " 'Providence College' 'Appalachian State University'\n",
            " 'University of Connecticut' 'University of Wisconsin, Eau Claire'\n",
            " 'University of Delaware' 'Massachusetts Institute of Technology'\n",
            " 'Oregon State University' 'Whatsgoodly University'\n",
            " 'Case Western Reserve University' 'Michigan Technological University'\n",
            " 'Meridian, Idaho' 'University of Dayton' 'University of Kansas'\n",
            " 'Morehead State University' 'University of Central Oklahoma'\n",
            " 'Syracuse University' 'Colby College' 'Brigham Young University'\n",
            " 'Arkansas State University' 'Westport, CT' 'Centre College'\n",
            " 'Middlebury College' 'North Carolina State' 'University of Kentucky'\n",
            " 'Bucknell University' 'Randolph-Macon College' 'Old Dominion University'\n",
            " 'University of Tampa' 'Roger Williams University' 'Penn State University'\n",
            " 'Minnesota State University Mankato' 'University of Florida'\n",
            " 'Boston College' 'Boston University']\n",
            "------------------------------\n",
            "Unique values in \"Answer\" column count: 3\n",
            "['Yes' 'No' \"I don't use Tinder\"]\n",
            "------------------------------\n",
            "Unique values in \"It became a Relationship\" column count: 2\n",
            "['Yes' 'No']\n",
            "------------------------------\n"
          ]
        }
      ]
    },
    {
      "cell_type": "code",
      "source": [
        "# Convert 'It became a relationship' column into boolean\n",
        "dict = {'Yes':1, 'No':0} # create a dictionary to map new values\n",
        "df['It became a Relationship'] = df['It became a Relationship'].map(dict) # apply mapping of values\n",
        "df['It became a Relationship'] = df['It became a Relationship'].astype(bool) # change data type"
      ],
      "metadata": {
        "id": "ZXnP2PCw5R3Z"
      },
      "execution_count": null,
      "outputs": []
    },
    {
      "cell_type": "code",
      "source": [
        "# 'Segement type' unique value counts\n",
        "df['Segment Type'].value_counts()"
      ],
      "metadata": {
        "colab": {
          "base_uri": "https://localhost:8080/"
        },
        "id": "9qUDl9F75UY5",
        "outputId": "9271d313-ad76-4b98-f2f1-3b7c4826ba2b"
      },
      "execution_count": null,
      "outputs": [
        {
          "output_type": "execute_result",
          "data": {
            "text/plain": [
              "University    441\n",
              "Gender          6\n",
              "Mobile          3\n",
              "Web             3\n",
              "Name: Segment Type, dtype: int64"
            ]
          },
          "metadata": {},
          "execution_count": 10
        }
      ]
    },
    {
      "cell_type": "code",
      "source": [
        "# 'Segment Description' unique value counts\n",
        "df['Segment Description'].value_counts(ascending=True)"
      ],
      "metadata": {
        "colab": {
          "base_uri": "https://localhost:8080/"
        },
        "id": "3FHq6hFU5W3q",
        "outputId": "a5e4946d-9dba-4c42-e37c-1cf8acfaf431"
      },
      "execution_count": null,
      "outputs": [
        {
          "output_type": "execute_result",
          "data": {
            "text/plain": [
              "Mobile respondents                    3\n",
              "Marquette University                  3\n",
              "James Madison University              3\n",
              "Sacred Heart University               3\n",
              "University of Wisconsin-Whitewater    3\n",
              "                                     ..\n",
              "University of Washington              3\n",
              "University of Illinois                3\n",
              "New York University                   3\n",
              "Washington University in St. Louis    3\n",
              "Boston University                     3\n",
              "Name: Segment Description, Length: 151, dtype: int64"
            ]
          },
          "metadata": {},
          "execution_count": 11
        }
      ]
    },
    {
      "cell_type": "code",
      "source": [
        "# 'Answer' Column unique value counts\n",
        "df['Answer'].value_counts()"
      ],
      "metadata": {
        "colab": {
          "base_uri": "https://localhost:8080/"
        },
        "id": "pZYC7qip5amE",
        "outputId": "7882aabb-9e0e-4737-9a4f-f5ffe5dde219"
      },
      "execution_count": null,
      "outputs": [
        {
          "output_type": "execute_result",
          "data": {
            "text/plain": [
              "Yes                   151\n",
              "No                    151\n",
              "I don't use Tinder    151\n",
              "Name: Answer, dtype: int64"
            ]
          },
          "metadata": {},
          "execution_count": 12
        }
      ]
    },
    {
      "cell_type": "code",
      "source": [
        "# Mean and median by answer groups\n",
        "df.groupby('Answer')[['Count', 'Percentage']].agg(['mean','median'])"
      ],
      "metadata": {
        "colab": {
          "base_uri": "https://localhost:8080/",
          "height": 206
        },
        "id": "6RP2Qc0G5d8-",
        "outputId": "b38d8cba-5453-4628-b036-1c0b31ba0e4f"
      },
      "execution_count": null,
      "outputs": [
        {
          "output_type": "execute_result",
          "data": {
            "text/plain": [
              "                        Count        Percentage       \n",
              "                         mean median       mean median\n",
              "Answer                                                \n",
              "I don't use Tinder  18.410596    1.0   0.228305  0.200\n",
              "No                  34.615894    2.0   0.517305  0.500\n",
              "Yes                 14.092715    1.0   0.247815  0.192"
            ],
            "text/html": [
              "\n",
              "  <div id=\"df-2fc3415c-d23e-4733-9243-13d6ceb0abe4\">\n",
              "    <div class=\"colab-df-container\">\n",
              "      <div>\n",
              "<style scoped>\n",
              "    .dataframe tbody tr th:only-of-type {\n",
              "        vertical-align: middle;\n",
              "    }\n",
              "\n",
              "    .dataframe tbody tr th {\n",
              "        vertical-align: top;\n",
              "    }\n",
              "\n",
              "    .dataframe thead tr th {\n",
              "        text-align: left;\n",
              "    }\n",
              "\n",
              "    .dataframe thead tr:last-of-type th {\n",
              "        text-align: right;\n",
              "    }\n",
              "</style>\n",
              "<table border=\"1\" class=\"dataframe\">\n",
              "  <thead>\n",
              "    <tr>\n",
              "      <th></th>\n",
              "      <th colspan=\"2\" halign=\"left\">Count</th>\n",
              "      <th colspan=\"2\" halign=\"left\">Percentage</th>\n",
              "    </tr>\n",
              "    <tr>\n",
              "      <th></th>\n",
              "      <th>mean</th>\n",
              "      <th>median</th>\n",
              "      <th>mean</th>\n",
              "      <th>median</th>\n",
              "    </tr>\n",
              "    <tr>\n",
              "      <th>Answer</th>\n",
              "      <th></th>\n",
              "      <th></th>\n",
              "      <th></th>\n",
              "      <th></th>\n",
              "    </tr>\n",
              "  </thead>\n",
              "  <tbody>\n",
              "    <tr>\n",
              "      <th>I don't use Tinder</th>\n",
              "      <td>18.410596</td>\n",
              "      <td>1.0</td>\n",
              "      <td>0.228305</td>\n",
              "      <td>0.200</td>\n",
              "    </tr>\n",
              "    <tr>\n",
              "      <th>No</th>\n",
              "      <td>34.615894</td>\n",
              "      <td>2.0</td>\n",
              "      <td>0.517305</td>\n",
              "      <td>0.500</td>\n",
              "    </tr>\n",
              "    <tr>\n",
              "      <th>Yes</th>\n",
              "      <td>14.092715</td>\n",
              "      <td>1.0</td>\n",
              "      <td>0.247815</td>\n",
              "      <td>0.192</td>\n",
              "    </tr>\n",
              "  </tbody>\n",
              "</table>\n",
              "</div>\n",
              "      <button class=\"colab-df-convert\" onclick=\"convertToInteractive('df-2fc3415c-d23e-4733-9243-13d6ceb0abe4')\"\n",
              "              title=\"Convert this dataframe to an interactive table.\"\n",
              "              style=\"display:none;\">\n",
              "        \n",
              "  <svg xmlns=\"http://www.w3.org/2000/svg\" height=\"24px\"viewBox=\"0 0 24 24\"\n",
              "       width=\"24px\">\n",
              "    <path d=\"M0 0h24v24H0V0z\" fill=\"none\"/>\n",
              "    <path d=\"M18.56 5.44l.94 2.06.94-2.06 2.06-.94-2.06-.94-.94-2.06-.94 2.06-2.06.94zm-11 1L8.5 8.5l.94-2.06 2.06-.94-2.06-.94L8.5 2.5l-.94 2.06-2.06.94zm10 10l.94 2.06.94-2.06 2.06-.94-2.06-.94-.94-2.06-.94 2.06-2.06.94z\"/><path d=\"M17.41 7.96l-1.37-1.37c-.4-.4-.92-.59-1.43-.59-.52 0-1.04.2-1.43.59L10.3 9.45l-7.72 7.72c-.78.78-.78 2.05 0 2.83L4 21.41c.39.39.9.59 1.41.59.51 0 1.02-.2 1.41-.59l7.78-7.78 2.81-2.81c.8-.78.8-2.07 0-2.86zM5.41 20L4 18.59l7.72-7.72 1.47 1.35L5.41 20z\"/>\n",
              "  </svg>\n",
              "      </button>\n",
              "      \n",
              "  <style>\n",
              "    .colab-df-container {\n",
              "      display:flex;\n",
              "      flex-wrap:wrap;\n",
              "      gap: 12px;\n",
              "    }\n",
              "\n",
              "    .colab-df-convert {\n",
              "      background-color: #E8F0FE;\n",
              "      border: none;\n",
              "      border-radius: 50%;\n",
              "      cursor: pointer;\n",
              "      display: none;\n",
              "      fill: #1967D2;\n",
              "      height: 32px;\n",
              "      padding: 0 0 0 0;\n",
              "      width: 32px;\n",
              "    }\n",
              "\n",
              "    .colab-df-convert:hover {\n",
              "      background-color: #E2EBFA;\n",
              "      box-shadow: 0px 1px 2px rgba(60, 64, 67, 0.3), 0px 1px 3px 1px rgba(60, 64, 67, 0.15);\n",
              "      fill: #174EA6;\n",
              "    }\n",
              "\n",
              "    [theme=dark] .colab-df-convert {\n",
              "      background-color: #3B4455;\n",
              "      fill: #D2E3FC;\n",
              "    }\n",
              "\n",
              "    [theme=dark] .colab-df-convert:hover {\n",
              "      background-color: #434B5C;\n",
              "      box-shadow: 0px 1px 3px 1px rgba(0, 0, 0, 0.15);\n",
              "      filter: drop-shadow(0px 1px 2px rgba(0, 0, 0, 0.3));\n",
              "      fill: #FFFFFF;\n",
              "    }\n",
              "  </style>\n",
              "\n",
              "      <script>\n",
              "        const buttonEl =\n",
              "          document.querySelector('#df-2fc3415c-d23e-4733-9243-13d6ceb0abe4 button.colab-df-convert');\n",
              "        buttonEl.style.display =\n",
              "          google.colab.kernel.accessAllowed ? 'block' : 'none';\n",
              "\n",
              "        async function convertToInteractive(key) {\n",
              "          const element = document.querySelector('#df-2fc3415c-d23e-4733-9243-13d6ceb0abe4');\n",
              "          const dataTable =\n",
              "            await google.colab.kernel.invokeFunction('convertToInteractive',\n",
              "                                                     [key], {});\n",
              "          if (!dataTable) return;\n",
              "\n",
              "          const docLinkHtml = 'Like what you see? Visit the ' +\n",
              "            '<a target=\"_blank\" href=https://colab.research.google.com/notebooks/data_table.ipynb>data table notebook</a>'\n",
              "            + ' to learn more about interactive tables.';\n",
              "          element.innerHTML = '';\n",
              "          dataTable['output_type'] = 'display_data';\n",
              "          await google.colab.output.renderOutput(dataTable, element);\n",
              "          const docLink = document.createElement('div');\n",
              "          docLink.innerHTML = docLinkHtml;\n",
              "          element.appendChild(docLink);\n",
              "        }\n",
              "      </script>\n",
              "    </div>\n",
              "  </div>\n",
              "  "
            ]
          },
          "metadata": {},
          "execution_count": 13
        }
      ]
    },
    {
      "cell_type": "code",
      "source": [
        "# 'Success' indiciator\n",
        "df['It became a Relationship'].value_counts()"
      ],
      "metadata": {
        "colab": {
          "base_uri": "https://localhost:8080/"
        },
        "id": "A6CLtSsX5gvq",
        "outputId": "3f44d551-50f9-4b3d-fde7-d524b484b73e"
      },
      "execution_count": null,
      "outputs": [
        {
          "output_type": "execute_result",
          "data": {
            "text/plain": [
              "False    323\n",
              "True     130\n",
              "Name: It became a Relationship, dtype: int64"
            ]
          },
          "metadata": {},
          "execution_count": 14
        }
      ]
    },
    {
      "cell_type": "code",
      "source": [
        "# function to plot ecdf, which will help understand distribution of variables\n",
        "def plot_ecdf(data, col, log_scale=False, plot_norm=False):  \n",
        "    x = np.sort(data[col])\n",
        "    x_norm = np.sort(np.random.normal(data[col].mean(), data[col].std(), len(data[col])))\n",
        "    y = np.sort(np.arange(1, len(data[col])+1)/(len(data[col] + 1)))\n",
        "\n",
        "    sns.set_style('darkgrid')\n",
        "    plt.figure(figsize=(14,6))\n",
        "    sns.scatterplot(x=x, y=y, label=col, alpha = 0.5)\n",
        "    plt.title('ECDF of {}'.format(col))\n",
        "    plt.xlabel(col)\n",
        "    \n",
        "    if plot_norm==True:\n",
        "        sns.scatterplot(x=x_norm, y=y, label='Normal distribution', alpha = 0.5)\n",
        "    \n",
        "    if log_scale==True:\n",
        "        plt.xscale('log')"
      ],
      "metadata": {
        "id": "bfADzQTE5jmj"
      },
      "execution_count": null,
      "outputs": []
    },
    {
      "cell_type": "code",
      "source": [
        "# examine 'Count' column:\n",
        "plot_ecdf(df,'Count', False, False)\n",
        "plt.xlim(-10,110)"
      ],
      "metadata": {
        "colab": {
          "base_uri": "https://localhost:8080/",
          "height": 421
        },
        "id": "xuOKCCmY5mMc",
        "outputId": "867ae41e-e68e-40e8-96b1-6e7520de8f0a"
      },
      "execution_count": null,
      "outputs": [
        {
          "output_type": "execute_result",
          "data": {
            "text/plain": [
              "(-10.0, 110.0)"
            ]
          },
          "metadata": {},
          "execution_count": 16
        },
        {
          "output_type": "display_data",
          "data": {
            "text/plain": [
              "<Figure size 1008x432 with 1 Axes>"
            ],
            "image/png": "[encoded data removed]"
          },
          "metadata": {}
        }
      ]
    },
    {
      "cell_type": "code",
      "source": [
        "# examine 'Percentage' column:\n",
        "plot_ecdf(df,'Percentage', False, False)"
      ],
      "metadata": {
        "colab": {
          "base_uri": "https://localhost:8080/",
          "height": 404
        },
        "id": "vCSNe3ND5pZh",
        "outputId": "b70ca031-bb55-4783-b19e-d1ce1b9b9475"
      },
      "execution_count": null,
      "outputs": [
        {
          "output_type": "display_data",
          "data": {
            "text/plain": [
              "<Figure size 1008x432 with 1 Axes>"
            ],
            "image/png": "[encoded data removed]"
          },
          "metadata": {}
        }
      ]
    },
    {
      "cell_type": "code",
      "source": [
        "# 'It became a Relationship'\n",
        "df.value_counts('It became a Relationship')"
      ],
      "metadata": {
        "colab": {
          "base_uri": "https://localhost:8080/"
        },
        "id": "f9AncObl5sBU",
        "outputId": "344fc368-62ab-491e-df7c-77fa2400bd45"
      },
      "execution_count": null,
      "outputs": [
        {
          "output_type": "execute_result",
          "data": {
            "text/plain": [
              "It became a Relationship\n",
              "False    323\n",
              "True     130\n",
              "dtype: int64"
            ]
          },
          "metadata": {},
          "execution_count": 18
        }
      ]
    },
    {
      "cell_type": "code",
      "source": [
        "# Calcualate mean and median number of match percentage and match count \n",
        "df.loc[:, df.columns != 'ID'].groupby('Answer')[['Count', 'Percentage']].agg(['mean', 'median'])"
      ],
      "metadata": {
        "colab": {
          "base_uri": "https://localhost:8080/",
          "height": 206
        },
        "id": "5aU7fn1V5ufy",
        "outputId": "ea5f4cda-c9e1-40ca-fff2-e7e65904c9a4"
      },
      "execution_count": null,
      "outputs": [
        {
          "output_type": "execute_result",
          "data": {
            "text/plain": [
              "                        Count        Percentage       \n",
              "                         mean median       mean median\n",
              "Answer                                                \n",
              "I don't use Tinder  18.410596    1.0   0.228305  0.200\n",
              "No                  34.615894    2.0   0.517305  0.500\n",
              "Yes                 14.092715    1.0   0.247815  0.192"
            ],
            "text/html": [
              "\n",
              "  <div id=\"df-639871f1-77e3-4844-b44f-c759418f2ee4\">\n",
              "    <div class=\"colab-df-container\">\n",
              "      <div>\n",
              "<style scoped>\n",
              "    .dataframe tbody tr th:only-of-type {\n",
              "        vertical-align: middle;\n",
              "    }\n",
              "\n",
              "    .dataframe tbody tr th {\n",
              "        vertical-align: top;\n",
              "    }\n",
              "\n",
              "    .dataframe thead tr th {\n",
              "        text-align: left;\n",
              "    }\n",
              "\n",
              "    .dataframe thead tr:last-of-type th {\n",
              "        text-align: right;\n",
              "    }\n",
              "</style>\n",
              "<table border=\"1\" class=\"dataframe\">\n",
              "  <thead>\n",
              "    <tr>\n",
              "      <th></th>\n",
              "      <th colspan=\"2\" halign=\"left\">Count</th>\n",
              "      <th colspan=\"2\" halign=\"left\">Percentage</th>\n",
              "    </tr>\n",
              "    <tr>\n",
              "      <th></th>\n",
              "      <th>mean</th>\n",
              "      <th>median</th>\n",
              "      <th>mean</th>\n",
              "      <th>median</th>\n",
              "    </tr>\n",
              "    <tr>\n",
              "      <th>Answer</th>\n",
              "      <th></th>\n",
              "      <th></th>\n",
              "      <th></th>\n",
              "      <th></th>\n",
              "    </tr>\n",
              "  </thead>\n",
              "  <tbody>\n",
              "    <tr>\n",
              "      <th>I don't use Tinder</th>\n",
              "      <td>18.410596</td>\n",
              "      <td>1.0</td>\n",
              "      <td>0.228305</td>\n",
              "      <td>0.200</td>\n",
              "    </tr>\n",
              "    <tr>\n",
              "      <th>No</th>\n",
              "      <td>34.615894</td>\n",
              "      <td>2.0</td>\n",
              "      <td>0.517305</td>\n",
              "      <td>0.500</td>\n",
              "    </tr>\n",
              "    <tr>\n",
              "      <th>Yes</th>\n",
              "      <td>14.092715</td>\n",
              "      <td>1.0</td>\n",
              "      <td>0.247815</td>\n",
              "      <td>0.192</td>\n",
              "    </tr>\n",
              "  </tbody>\n",
              "</table>\n",
              "</div>\n",
              "      <button class=\"colab-df-convert\" onclick=\"convertToInteractive('df-639871f1-77e3-4844-b44f-c759418f2ee4')\"\n",
              "              title=\"Convert this dataframe to an interactive table.\"\n",
              "              style=\"display:none;\">\n",
              "        \n",
              "  <svg xmlns=\"http://www.w3.org/2000/svg\" height=\"24px\"viewBox=\"0 0 24 24\"\n",
              "       width=\"24px\">\n",
              "    <path d=\"M0 0h24v24H0V0z\" fill=\"none\"/>\n",
              "    <path d=\"M18.56 5.44l.94 2.06.94-2.06 2.06-.94-2.06-.94-.94-2.06-.94 2.06-2.06.94zm-11 1L8.5 8.5l.94-2.06 2.06-.94-2.06-.94L8.5 2.5l-.94 2.06-2.06.94zm10 10l.94 2.06.94-2.06 2.06-.94-2.06-.94-.94-2.06-.94 2.06-2.06.94z\"/><path d=\"M17.41 7.96l-1.37-1.37c-.4-.4-.92-.59-1.43-.59-.52 0-1.04.2-1.43.59L10.3 9.45l-7.72 7.72c-.78.78-.78 2.05 0 2.83L4 21.41c.39.39.9.59 1.41.59.51 0 1.02-.2 1.41-.59l7.78-7.78 2.81-2.81c.8-.78.8-2.07 0-2.86zM5.41 20L4 18.59l7.72-7.72 1.47 1.35L5.41 20z\"/>\n",
              "  </svg>\n",
              "      </button>\n",
              "      \n",
              "  <style>\n",
              "    .colab-df-container {\n",
              "      display:flex;\n",
              "      flex-wrap:wrap;\n",
              "      gap: 12px;\n",
              "    }\n",
              "\n",
              "    .colab-df-convert {\n",
              "      background-color: #E8F0FE;\n",
              "      border: none;\n",
              "      border-radius: 50%;\n",
              "      cursor: pointer;\n",
              "      display: none;\n",
              "      fill: #1967D2;\n",
              "      height: 32px;\n",
              "      padding: 0 0 0 0;\n",
              "      width: 32px;\n",
              "    }\n",
              "\n",
              "    .colab-df-convert:hover {\n",
              "      background-color: #E2EBFA;\n",
              "      box-shadow: 0px 1px 2px rgba(60, 64, 67, 0.3), 0px 1px 3px 1px rgba(60, 64, 67, 0.15);\n",
              "      fill: #174EA6;\n",
              "    }\n",
              "\n",
              "    [theme=dark] .colab-df-convert {\n",
              "      background-color: #3B4455;\n",
              "      fill: #D2E3FC;\n",
              "    }\n",
              "\n",
              "    [theme=dark] .colab-df-convert:hover {\n",
              "      background-color: #434B5C;\n",
              "      box-shadow: 0px 1px 3px 1px rgba(0, 0, 0, 0.15);\n",
              "      filter: drop-shadow(0px 1px 2px rgba(0, 0, 0, 0.3));\n",
              "      fill: #FFFFFF;\n",
              "    }\n",
              "  </style>\n",
              "\n",
              "      <script>\n",
              "        const buttonEl =\n",
              "          document.querySelector('#df-639871f1-77e3-4844-b44f-c759418f2ee4 button.colab-df-convert');\n",
              "        buttonEl.style.display =\n",
              "          google.colab.kernel.accessAllowed ? 'block' : 'none';\n",
              "\n",
              "        async function convertToInteractive(key) {\n",
              "          const element = document.querySelector('#df-639871f1-77e3-4844-b44f-c759418f2ee4');\n",
              "          const dataTable =\n",
              "            await google.colab.kernel.invokeFunction('convertToInteractive',\n",
              "                                                     [key], {});\n",
              "          if (!dataTable) return;\n",
              "\n",
              "          const docLinkHtml = 'Like what you see? Visit the ' +\n",
              "            '<a target=\"_blank\" href=https://colab.research.google.com/notebooks/data_table.ipynb>data table notebook</a>'\n",
              "            + ' to learn more about interactive tables.';\n",
              "          element.innerHTML = '';\n",
              "          dataTable['output_type'] = 'display_data';\n",
              "          await google.colab.output.renderOutput(dataTable, element);\n",
              "          const docLink = document.createElement('div');\n",
              "          docLink.innerHTML = docLinkHtml;\n",
              "          element.appendChild(docLink);\n",
              "        }\n",
              "      </script>\n",
              "    </div>\n",
              "  </div>\n",
              "  "
            ]
          },
          "metadata": {},
          "execution_count": 19
        }
      ]
    },
    {
      "cell_type": "code",
      "source": [
        "# Calcualate mean and median number of match percentage and count \n",
        "df.loc[:, df.columns != 'ID'].groupby('It became a Relationship').agg(['mean', 'median'])"
      ],
      "metadata": {
        "colab": {
          "base_uri": "https://localhost:8080/",
          "height": 175
        },
        "id": "YTkGH8JG5xCi",
        "outputId": "793aab84-149c-4cb4-abe9-49090295a6f3"
      },
      "execution_count": null,
      "outputs": [
        {
          "output_type": "execute_result",
          "data": {
            "text/plain": [
              "                              Count        Percentage       \n",
              "                               mean median       mean median\n",
              "It became a Relationship                                    \n",
              "False                     19.433437    1.0   0.315641  0.250\n",
              "True                      29.676923    1.0   0.369654  0.305"
            ],
            "text/html": [
              "\n",
              "  <div id=\"df-98069eb3-bb93-41fe-9fc4-4d44d2d8872f\">\n",
              "    <div class=\"colab-df-container\">\n",
              "      <div>\n",
              "<style scoped>\n",
              "    .dataframe tbody tr th:only-of-type {\n",
              "        vertical-align: middle;\n",
              "    }\n",
              "\n",
              "    .dataframe tbody tr th {\n",
              "        vertical-align: top;\n",
              "    }\n",
              "\n",
              "    .dataframe thead tr th {\n",
              "        text-align: left;\n",
              "    }\n",
              "\n",
              "    .dataframe thead tr:last-of-type th {\n",
              "        text-align: right;\n",
              "    }\n",
              "</style>\n",
              "<table border=\"1\" class=\"dataframe\">\n",
              "  <thead>\n",
              "    <tr>\n",
              "      <th></th>\n",
              "      <th colspan=\"2\" halign=\"left\">Count</th>\n",
              "      <th colspan=\"2\" halign=\"left\">Percentage</th>\n",
              "    </tr>\n",
              "    <tr>\n",
              "      <th></th>\n",
              "      <th>mean</th>\n",
              "      <th>median</th>\n",
              "      <th>mean</th>\n",
              "      <th>median</th>\n",
              "    </tr>\n",
              "    <tr>\n",
              "      <th>It became a Relationship</th>\n",
              "      <th></th>\n",
              "      <th></th>\n",
              "      <th></th>\n",
              "      <th></th>\n",
              "    </tr>\n",
              "  </thead>\n",
              "  <tbody>\n",
              "    <tr>\n",
              "      <th>False</th>\n",
              "      <td>19.433437</td>\n",
              "      <td>1.0</td>\n",
              "      <td>0.315641</td>\n",
              "      <td>0.250</td>\n",
              "    </tr>\n",
              "    <tr>\n",
              "      <th>True</th>\n",
              "      <td>29.676923</td>\n",
              "      <td>1.0</td>\n",
              "      <td>0.369654</td>\n",
              "      <td>0.305</td>\n",
              "    </tr>\n",
              "  </tbody>\n",
              "</table>\n",
              "</div>\n",
              "      <button class=\"colab-df-convert\" onclick=\"convertToInteractive('df-98069eb3-bb93-41fe-9fc4-4d44d2d8872f')\"\n",
              "              title=\"Convert this dataframe to an interactive table.\"\n",
              "              style=\"display:none;\">\n",
              "        \n",
              "  <svg xmlns=\"http://www.w3.org/2000/svg\" height=\"24px\"viewBox=\"0 0 24 24\"\n",
              "       width=\"24px\">\n",
              "    <path d=\"M0 0h24v24H0V0z\" fill=\"none\"/>\n",
              "    <path d=\"M18.56 5.44l.94 2.06.94-2.06 2.06-.94-2.06-.94-.94-2.06-.94 2.06-2.06.94zm-11 1L8.5 8.5l.94-2.06 2.06-.94-2.06-.94L8.5 2.5l-.94 2.06-2.06.94zm10 10l.94 2.06.94-2.06 2.06-.94-2.06-.94-.94-2.06-.94 2.06-2.06.94z\"/><path d=\"M17.41 7.96l-1.37-1.37c-.4-.4-.92-.59-1.43-.59-.52 0-1.04.2-1.43.59L10.3 9.45l-7.72 7.72c-.78.78-.78 2.05 0 2.83L4 21.41c.39.39.9.59 1.41.59.51 0 1.02-.2 1.41-.59l7.78-7.78 2.81-2.81c.8-.78.8-2.07 0-2.86zM5.41 20L4 18.59l7.72-7.72 1.47 1.35L5.41 20z\"/>\n",
              "  </svg>\n",
              "      </button>\n",
              "      \n",
              "  <style>\n",
              "    .colab-df-container {\n",
              "      display:flex;\n",
              "      flex-wrap:wrap;\n",
              "      gap: 12px;\n",
              "    }\n",
              "\n",
              "    .colab-df-convert {\n",
              "      background-color: #E8F0FE;\n",
              "      border: none;\n",
              "      border-radius: 50%;\n",
              "      cursor: pointer;\n",
              "      display: none;\n",
              "      fill: #1967D2;\n",
              "      height: 32px;\n",
              "      padding: 0 0 0 0;\n",
              "      width: 32px;\n",
              "    }\n",
              "\n",
              "    .colab-df-convert:hover {\n",
              "      background-color: #E2EBFA;\n",
              "      box-shadow: 0px 1px 2px rgba(60, 64, 67, 0.3), 0px 1px 3px 1px rgba(60, 64, 67, 0.15);\n",
              "      fill: #174EA6;\n",
              "    }\n",
              "\n",
              "    [theme=dark] .colab-df-convert {\n",
              "      background-color: #3B4455;\n",
              "      fill: #D2E3FC;\n",
              "    }\n",
              "\n",
              "    [theme=dark] .colab-df-convert:hover {\n",
              "      background-color: #434B5C;\n",
              "      box-shadow: 0px 1px 3px 1px rgba(0, 0, 0, 0.15);\n",
              "      filter: drop-shadow(0px 1px 2px rgba(0, 0, 0, 0.3));\n",
              "      fill: #FFFFFF;\n",
              "    }\n",
              "  </style>\n",
              "\n",
              "      <script>\n",
              "        const buttonEl =\n",
              "          document.querySelector('#df-98069eb3-bb93-41fe-9fc4-4d44d2d8872f button.colab-df-convert');\n",
              "        buttonEl.style.display =\n",
              "          google.colab.kernel.accessAllowed ? 'block' : 'none';\n",
              "\n",
              "        async function convertToInteractive(key) {\n",
              "          const element = document.querySelector('#df-98069eb3-bb93-41fe-9fc4-4d44d2d8872f');\n",
              "          const dataTable =\n",
              "            await google.colab.kernel.invokeFunction('convertToInteractive',\n",
              "                                                     [key], {});\n",
              "          if (!dataTable) return;\n",
              "\n",
              "          const docLinkHtml = 'Like what you see? Visit the ' +\n",
              "            '<a target=\"_blank\" href=https://colab.research.google.com/notebooks/data_table.ipynb>data table notebook</a>'\n",
              "            + ' to learn more about interactive tables.';\n",
              "          element.innerHTML = '';\n",
              "          dataTable['output_type'] = 'display_data';\n",
              "          await google.colab.output.renderOutput(dataTable, element);\n",
              "          const docLink = document.createElement('div');\n",
              "          docLink.innerHTML = docLinkHtml;\n",
              "          element.appendChild(docLink);\n",
              "        }\n",
              "      </script>\n",
              "    </div>\n",
              "  </div>\n",
              "  "
            ]
          },
          "metadata": {},
          "execution_count": 20
        }
      ]
    },
    {
      "cell_type": "code",
      "source": [
        "# Boxplot of match count \n",
        "plt.figure(figsize=(14,6))\n",
        "sns.boxplot(x=df['Count'], y=df['It became a Relationship'].astype('category'))\n",
        "plt.xscale('log')\n",
        "plt.title('Boxplot of match counts')"
      ],
      "metadata": {
        "colab": {
          "base_uri": "https://localhost:8080/",
          "height": 425
        },
        "id": "J_SIzjsN5y97",
        "outputId": "e09a5e2f-6066-4dae-ad4c-b03871833c80"
      },
      "execution_count": null,
      "outputs": [
        {
          "output_type": "execute_result",
          "data": {
            "text/plain": [
              "Text(0.5, 1.0, 'Boxplot of match counts')"
            ]
          },
          "metadata": {},
          "execution_count": 21
        },
        {
          "output_type": "display_data",
          "data": {
            "text/plain": [
              "<Figure size 1008x432 with 1 Axes>"
            ],
            "image/png": "[encoded data removed]"
          },
          "metadata": {}
        }
      ]
    },
    {
      "cell_type": "code",
      "source": [
        "# Boxplot of match Percentage \n",
        "plt.figure(figsize=(14,6))\n",
        "sns.boxplot(x=df['Percentage'], y=df['It became a Relationship'].astype('category'))\n",
        "plt.title('Boxplot of percentage counts')"
      ],
      "metadata": {
        "colab": {
          "base_uri": "https://localhost:8080/",
          "height": 421
        },
        "id": "AEFdLvG050oH",
        "outputId": "49a4b119-b90e-4d70-e79b-50fed7f9f0ab"
      },
      "execution_count": null,
      "outputs": [
        {
          "output_type": "execute_result",
          "data": {
            "text/plain": [
              "Text(0.5, 1.0, 'Boxplot of percentage counts')"
            ]
          },
          "metadata": {},
          "execution_count": 22
        },
        {
          "output_type": "display_data",
          "data": {
            "text/plain": [
              "<Figure size 1008x432 with 1 Axes>"
            ],
            "image/png": "[encoded data removed]"
          },
          "metadata": {}
        }
      ]
    },
    {
      "cell_type": "code",
      "source": [
        "# Function to calcaulte difference of a function (ex. mean)\n",
        "def diff_func(data_1, data_2, func=np.mean):\n",
        "    difference = func(data_1) - func(data_2)\n",
        "    return difference"
      ],
      "metadata": {
        "id": "MUXBJLIZ58YL"
      },
      "execution_count": null,
      "outputs": []
    },
    {
      "cell_type": "code",
      "source": [
        "# Function to grab column value to compare for those found relationship in tinder versus not \n",
        "def initial_sample(df=df, col_to_compare='Percentage'):\n",
        "    rel_yes = df[df['It became a Relationship']][col_to_compare]\n",
        "    rel_no = df[df['It became a Relationship']!=True][col_to_compare]\n",
        "    return rel_yes, rel_no"
      ],
      "metadata": {
        "id": "MeN4bmqZ5-Tb"
      },
      "execution_count": null,
      "outputs": []
    },
    {
      "cell_type": "code",
      "source": [
        "# Create bootstrapped samples using permutation\n",
        "def permutation_sample(data1, data2):\n",
        "    \n",
        "    data = np.concatenate((data1, data2))\n",
        "    permuted_data = np.random.permutation(data)\n",
        "    \n",
        "    permuted_data1 = permuted_data[:len(data1)]\n",
        "    permuted_data2 = permuted_data[len(data1):]\n",
        "    \n",
        "    return permuted_data1, permuted_data2"
      ],
      "metadata": {
        "id": "h46_lWly6Alz"
      },
      "execution_count": null,
      "outputs": []
    },
    {
      "cell_type": "code",
      "source": [
        "# Conduct null hypothesis test with bootstrapped samples\n",
        "def bootstrap_testing(df, col_to_compare, func, size=1):\n",
        "    data1, data2 = initial_sample(df, col_to_compare)\n",
        "    difference = diff_func(data1, data2, func)\n",
        "    \n",
        "    sample_stat = [] # initialize a list to store bootstrapped sample statistics\n",
        "    \n",
        "    for i in range(size):\n",
        "        permuted_data1, permuted_data2 = permutation_sample(data1, data2)\n",
        "        permuted_diff = diff_func(permuted_data1, permuted_data2, func)\n",
        "        sample_stat.append(permuted_diff)\n",
        "    \n",
        "    sample_stat = np.array(sample_stat)\n",
        "    \n",
        "    plt.figure(figsize=(14,8))\n",
        "    ax = sns.histplot(sample_stat)\n",
        "    ax.axvline(difference, linestyle='--', color='red')\n",
        "    plt.title('Distribution of bootstraped sample stat versus original sample stat (dashed)')\n",
        "    \n",
        "    pval = np.sum(difference <= sample_stat)/len(sample_stat)\n",
        "    print('Test result : p-value of {}'.format(pval))\n",
        "    return pval"
      ],
      "metadata": {
        "id": "Ze366hQ_6DYT"
      },
      "execution_count": null,
      "outputs": []
    },
    {
      "cell_type": "code",
      "source": [
        "# Perform the test with 10000 iterations on difference in mean of 'percentage' for those who found relationship in tinder versus those who did not \n",
        "np.random.seed(5)\n",
        "bootstrap_testing(df=df, col_to_compare='Percentage', func=np.mean, size=10000)"
      ],
      "metadata": {
        "colab": {
          "base_uri": "https://localhost:8080/",
          "height": 534
        },
        "id": "d1CnHl4i6F4i",
        "outputId": "5c59e495-135b-4a05-cf6b-e9e5443a534b"
      },
      "execution_count": null,
      "outputs": [
        {
          "output_type": "stream",
          "name": "stdout",
          "text": [
            "Test result : p-value of 0.049\n"
          ]
        },
        {
          "output_type": "execute_result",
          "data": {
            "text/plain": [
              "0.049"
            ]
          },
          "metadata": {},
          "execution_count": 27
        },
        {
          "output_type": "display_data",
          "data": {
            "text/plain": [
              "<Figure size 1008x576 with 1 Axes>"
            ],
            "image/png": "[encoded data removed]"
          },
          "metadata": {}
        }
      ]
    },
    {
      "cell_type": "code",
      "source": [
        "# Perform the test with 10000 iterations on difference in mean of 'percentage' for those who found relationship in tinder versus those who did not \n",
        "# This time subset for those used tinder more frequently\n",
        "frequent_user = df[(df['Count']>0)&(df['Percentage']<1)]\n",
        "\n",
        "np.random.seed(5)\n",
        "bootstrap_testing(df=frequent_user, col_to_compare='Percentage', func=np.mean, size=10000)"
      ],
      "metadata": {
        "colab": {
          "base_uri": "https://localhost:8080/",
          "height": 534
        },
        "id": "xpxzsQrp6GYi",
        "outputId": "0779d732-5b15-4439-af18-ed4ff220c960"
      },
      "execution_count": null,
      "outputs": [
        {
          "output_type": "stream",
          "name": "stdout",
          "text": [
            "Test result : p-value of 0.0638\n"
          ]
        },
        {
          "output_type": "execute_result",
          "data": {
            "text/plain": [
              "0.0638"
            ]
          },
          "metadata": {},
          "execution_count": 28
        },
        {
          "output_type": "display_data",
          "data": {
            "text/plain": [
              "<Figure size 1008x576 with 1 Axes>"
            ],
            "image/png": "[encoded data removed]"
          },
          "metadata": {}
        }
      ]
    },
    {
      "cell_type": "code",
      "source": [
        "# Perform the test with 10000 iterations on difference in mean of tinder match counts for those who found relationship in tinder versus those who did not \n",
        "np.random.seed(5)\n",
        "bootstrap_testing(df=df, col_to_compare='Count', func=np.mean, size=10000)"
      ],
      "metadata": {
        "colab": {
          "base_uri": "https://localhost:8080/",
          "height": 534
        },
        "id": "dZG2Xo5u6MGz",
        "outputId": "6fe9cc94-49b4-4f49-f56c-bf617c3fcf0b"
      },
      "execution_count": null,
      "outputs": [
        {
          "output_type": "stream",
          "name": "stdout",
          "text": [
            "Test result : p-value of 0.2351\n"
          ]
        },
        {
          "output_type": "execute_result",
          "data": {
            "text/plain": [
              "0.2351"
            ]
          },
          "metadata": {},
          "execution_count": 29
        },
        {
          "output_type": "display_data",
          "data": {
            "text/plain": [
              "<Figure size 1008x576 with 1 Axes>"
            ],
            "image/png": "[encoded data removed]"
          },
          "metadata": {}
        }
      ]
    },
    {
      "cell_type": "code",
      "source": [
        "# Perform the test with 10000 iterations on difference in mean of tinder match counts for those who found relationship in tinder versus those who did not \n",
        "# Subset only for frequent users\n",
        "\n",
        "np.random.seed(5)\n",
        "bootstrap_testing(df=frequent_user, col_to_compare='Count', func=np.mean, size=10000)"
      ],
      "metadata": {
        "colab": {
          "base_uri": "https://localhost:8080/",
          "height": 534
        },
        "id": "E26Dbn-B6PB9",
        "outputId": "51125b48-0a86-4b2b-e549-42a9698f4210"
      },
      "execution_count": null,
      "outputs": [
        {
          "output_type": "stream",
          "name": "stdout",
          "text": [
            "Test result : p-value of 0.1641\n"
          ]
        },
        {
          "output_type": "execute_result",
          "data": {
            "text/plain": [
              "0.1641"
            ]
          },
          "metadata": {},
          "execution_count": 30
        },
        {
          "output_type": "display_data",
          "data": {
            "text/plain": [
              "<Figure size 1008x576 with 1 Axes>"
            ],
            "image/png": "[encoded data removed]"
          },
          "metadata": {}
        }
      ]
    }
  ]
}